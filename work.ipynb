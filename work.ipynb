{
 "cells": [
  {
   "cell_type": "code",
   "execution_count": 1,
   "metadata": {},
   "outputs": [
    {
     "name": "stderr",
     "output_type": "stream",
     "text": [
      "C:\\Users\\gaurav gupta\\AppData\\Local\\Temp\\ipykernel_2928\\3640489074.py:1: DeprecationWarning: \n",
      "Pyarrow will become a required dependency of pandas in the next major release of pandas (pandas 3.0),\n",
      "(to allow more performant data types, such as the Arrow string type, and better interoperability with other libraries)\n",
      "but was not found to be installed on your system.\n",
      "If this would cause problems for you,\n",
      "please provide us feedback at https://github.com/pandas-dev/pandas/issues/54466\n",
      "        \n",
      "  import pandas as pd\n"
     ]
    },
    {
     "ename": "ModuleNotFoundError",
     "evalue": "No module named 'MetaTrader5'",
     "output_type": "error",
     "traceback": [
      "\u001b[1;31m---------------------------------------------------------------------------\u001b[0m",
      "\u001b[1;31mModuleNotFoundError\u001b[0m                       Traceback (most recent call last)",
      "Input \u001b[1;32mIn [1]\u001b[0m, in \u001b[0;36m<cell line: 2>\u001b[1;34m()\u001b[0m\n\u001b[0;32m      1\u001b[0m \u001b[38;5;28;01mimport\u001b[39;00m \u001b[38;5;21;01mpandas\u001b[39;00m \u001b[38;5;28;01mas\u001b[39;00m \u001b[38;5;21;01mpd\u001b[39;00m\n\u001b[1;32m----> 2\u001b[0m \u001b[38;5;28;01mfrom\u001b[39;00m \u001b[38;5;21;01mTenIndicators\u001b[39;00m\u001b[38;5;21;01m.\u001b[39;00m\u001b[38;5;21;01mindicators\u001b[39;00m \u001b[38;5;28;01mimport\u001b[39;00m \u001b[38;5;241m*\u001b[39m\n",
      "File \u001b[1;32mc:\\Users\\gaurav gupta\\Downloads\\trading-internship-project-main\\trading-internship-project-main\\TenIndicators\\indicators.py:1\u001b[0m, in \u001b[0;36m<module>\u001b[1;34m\u001b[0m\n\u001b[1;32m----> 1\u001b[0m \u001b[38;5;28;01mimport\u001b[39;00m \u001b[38;5;21;01mMetaTrader5\u001b[39;00m \u001b[38;5;28;01mas\u001b[39;00m \u001b[38;5;21;01mmt5\u001b[39;00m\n\u001b[0;32m      2\u001b[0m \u001b[38;5;28;01mimport\u001b[39;00m \u001b[38;5;21;01mpandas\u001b[39;00m \u001b[38;5;28;01mas\u001b[39;00m \u001b[38;5;21;01mpd\u001b[39;00m\n\u001b[0;32m      5\u001b[0m \u001b[38;5;28;01mdef\u001b[39;00m \u001b[38;5;21mget_past_rates\u001b[39m(symbol:\u001b[38;5;28mstr\u001b[39m,timeframe:\u001b[38;5;28mint\u001b[39m,count:\u001b[38;5;28mint\u001b[39m):\n",
      "\u001b[1;31mModuleNotFoundError\u001b[0m: No module named 'MetaTrader5'"
     ]
    }
   ],
   "source": [
    "import pandas as pd\n",
    "from TenIndicators.indicators import *"
   ]
  },
  {
   "cell_type": "code",
   "execution_count": 2,
   "metadata": {},
   "outputs": [
    {
     "name": "stdout",
     "output_type": "stream",
     "text": [
      "Requirement already satisfied: pandas in c:\\users\\gaurav gupta\\appdata\\local\\programs\\python\\python310\\lib\\site-packages (2.2.0)\n",
      "Requirement already satisfied: numpy<2,>=1.22.4 in c:\\users\\gaurav gupta\\appdata\\local\\programs\\python\\python310\\lib\\site-packages (from pandas) (1.23.2)\n",
      "Requirement already satisfied: python-dateutil>=2.8.2 in c:\\users\\gaurav gupta\\appdata\\roaming\\python\\python310\\site-packages (from pandas) (2.8.2)\n",
      "Requirement already satisfied: tzdata>=2022.7 in c:\\users\\gaurav gupta\\appdata\\local\\programs\\python\\python310\\lib\\site-packages (from pandas) (2023.4)\n",
      "Requirement already satisfied: pytz>=2020.1 in c:\\users\\gaurav gupta\\appdata\\local\\programs\\python\\python310\\lib\\site-packages (from pandas) (2024.1)\n",
      "Requirement already satisfied: six>=1.5 in c:\\users\\gaurav gupta\\appdata\\local\\programs\\python\\python310\\lib\\site-packages (from python-dateutil>=2.8.2->pandas) (1.16.0)\n"
     ]
    },
    {
     "name": "stderr",
     "output_type": "stream",
     "text": [
      "\n",
      "[notice] A new release of pip available: 22.2.1 -> 24.0\n",
      "[notice] To update, run: python.exe -m pip install --upgrade pip\n"
     ]
    }
   ],
   "source": [
    "!pip install pandas"
   ]
  },
  {
   "cell_type": "code",
   "execution_count": 3,
   "metadata": {},
   "outputs": [
    {
     "ename": "ModuleNotFoundError",
     "evalue": "No module named 'MetaTrader5'",
     "output_type": "error",
     "traceback": [
      "\u001b[1;31m---------------------------------------------------------------------------\u001b[0m",
      "\u001b[1;31mModuleNotFoundError\u001b[0m                       Traceback (most recent call last)",
      "Input \u001b[1;32mIn [3]\u001b[0m, in \u001b[0;36m<cell line: 2>\u001b[1;34m()\u001b[0m\n\u001b[0;32m      1\u001b[0m \u001b[38;5;28;01mimport\u001b[39;00m \u001b[38;5;21;01mpandas\u001b[39;00m \u001b[38;5;28;01mas\u001b[39;00m \u001b[38;5;21;01mpd\u001b[39;00m\n\u001b[1;32m----> 2\u001b[0m \u001b[38;5;28;01mfrom\u001b[39;00m \u001b[38;5;21;01mTenIndicators\u001b[39;00m\u001b[38;5;21;01m.\u001b[39;00m\u001b[38;5;21;01mindicators\u001b[39;00m \u001b[38;5;28;01mimport\u001b[39;00m \u001b[38;5;241m*\u001b[39m\n",
      "File \u001b[1;32mc:\\Users\\gaurav gupta\\Downloads\\trading-internship-project-main\\trading-internship-project-main\\TenIndicators\\indicators.py:1\u001b[0m, in \u001b[0;36m<module>\u001b[1;34m\u001b[0m\n\u001b[1;32m----> 1\u001b[0m \u001b[38;5;28;01mimport\u001b[39;00m \u001b[38;5;21;01mMetaTrader5\u001b[39;00m \u001b[38;5;28;01mas\u001b[39;00m \u001b[38;5;21;01mmt5\u001b[39;00m\n\u001b[0;32m      2\u001b[0m \u001b[38;5;28;01mimport\u001b[39;00m \u001b[38;5;21;01mpandas\u001b[39;00m \u001b[38;5;28;01mas\u001b[39;00m \u001b[38;5;21;01mpd\u001b[39;00m\n\u001b[0;32m      5\u001b[0m \u001b[38;5;28;01mdef\u001b[39;00m \u001b[38;5;21mget_past_rates\u001b[39m(symbol:\u001b[38;5;28mstr\u001b[39m,timeframe:\u001b[38;5;28mint\u001b[39m,count:\u001b[38;5;28mint\u001b[39m):\n",
      "\u001b[1;31mModuleNotFoundError\u001b[0m: No module named 'MetaTrader5'"
     ]
    }
   ],
   "source": [
    "import pandas as pd\n",
    "from TenIndicators.indicators import *"
   ]
  },
  {
   "cell_type": "code",
   "execution_count": 4,
   "metadata": {},
   "outputs": [
    {
     "ename": "ModuleNotFoundError",
     "evalue": "No module named 'MetaTrader5'",
     "output_type": "error",
     "traceback": [
      "\u001b[1;31m---------------------------------------------------------------------------\u001b[0m",
      "\u001b[1;31mModuleNotFoundError\u001b[0m                       Traceback (most recent call last)",
      "Input \u001b[1;32mIn [4]\u001b[0m, in \u001b[0;36m<cell line: 1>\u001b[1;34m()\u001b[0m\n\u001b[1;32m----> 1\u001b[0m \u001b[38;5;28;01mimport\u001b[39;00m \u001b[38;5;21;01mMetaTrader5\u001b[39;00m \u001b[38;5;28;01mas\u001b[39;00m \u001b[38;5;21;01mmt5\u001b[39;00m\n\u001b[0;32m      2\u001b[0m \u001b[38;5;28;01mimport\u001b[39;00m \u001b[38;5;21;01mpandas\u001b[39;00m \u001b[38;5;28;01mas\u001b[39;00m \u001b[38;5;21;01mpd\u001b[39;00m\n",
      "\u001b[1;31mModuleNotFoundError\u001b[0m: No module named 'MetaTrader5'"
     ]
    }
   ],
   "source": [
    "import MetaTrader5 as mt5\n",
    "import pandas as pd"
   ]
  },
  {
   "cell_type": "code",
   "execution_count": 6,
   "metadata": {},
   "outputs": [
    {
     "name": "stdout",
     "output_type": "stream",
     "text": [
      "Collecting MetaTrader5\n",
      "  Downloading MetaTrader5-5.0.4200-cp310-cp310-win_amd64.whl (50 kB)\n",
      "     -------------------------------------- 50.2/50.2 kB 283.7 kB/s eta 0:00:00\n",
      "Requirement already satisfied: numpy>=1.7 in c:\\users\\gaurav gupta\\appdata\\local\\programs\\python\\python310\\lib\\site-packages (from MetaTrader5) (1.23.2)\n",
      "Installing collected packages: MetaTrader5\n",
      "Successfully installed MetaTrader5-5.0.4200\n"
     ]
    },
    {
     "name": "stderr",
     "output_type": "stream",
     "text": [
      "\n",
      "[notice] A new release of pip available: 22.2.1 -> 24.0\n",
      "[notice] To update, run: python.exe -m pip install --upgrade pip\n"
     ]
    }
   ],
   "source": [
    "!pip install MetaTrader5"
   ]
  },
  {
   "cell_type": "code",
   "execution_count": 7,
   "metadata": {},
   "outputs": [],
   "source": [
    "import MetaTrader5 as mt5\n",
    "import pandas as pd"
   ]
  },
  {
   "cell_type": "code",
   "execution_count": 8,
   "metadata": {},
   "outputs": [],
   "source": [
    "import pandas as pd\n",
    "from TenIndicators.indicators import *"
   ]
  },
  {
   "cell_type": "code",
   "execution_count": 10,
   "metadata": {},
   "outputs": [
    {
     "name": "stdout",
     "output_type": "stream",
     "text": [
      "   Unnamed: 0       converted_time        time     open     high      low  \\\n",
      "0           0  2016-03-09 07:00:00  1457506800  1.34358  1.34361  1.34268   \n",
      "1           1  2016-03-09 08:00:00  1457510400  1.34308  1.34337  1.34229   \n",
      "2           2  2016-03-09 09:00:00  1457514000  1.34249  1.34346  1.34134   \n",
      "3           3  2016-03-09 10:00:00  1457517600  1.34228  1.34244  1.33991   \n",
      "4           4  2016-03-09 11:00:00  1457521200  1.34084  1.34084  1.33846   \n",
      "\n",
      "     close  spread  tick_volume  real_volume  \n",
      "0  1.34306       9         1840   1063345000  \n",
      "1  1.34249       9         1744   1553800000  \n",
      "2  1.34231       9         4418   4627827000  \n",
      "3  1.34084       9         6463   6488430000  \n",
      "4  1.33976       9         6165   7256560000  \n"
     ]
    }
   ],
   "source": [
    "df = pd.read_csv('pastdata.csv')\n",
    "print(df.head())"
   ]
  },
  {
   "cell_type": "code",
   "execution_count": 12,
   "metadata": {},
   "outputs": [
    {
     "name": "stdout",
     "output_type": "stream",
     "text": [
      "       Unnamed: 0       converted_time        time     open     high      low  \\\n",
      "49999       49999  2024-03-20 09:00:00  1710925200  1.35794  1.35807  1.35724   \n",
      "\n",
      "         close  spread  tick_volume  real_volume       ema       sma  \n",
      "49999  1.35751      13         1446            0  1.357155  1.357525  \n"
     ]
    }
   ],
   "source": [
    "rate_macd = get_simple_moving_average(df, 20)"
   ]
  },
  {
   "cell_type": "code",
   "execution_count": 13,
   "metadata": {},
   "outputs": [],
   "source": [
    "final_rates = rate_macd\n",
    "\n",
    "\n",
    "trades = pd.DataFrame(columns=['state', 'order_type', 'open_time', \n",
    "                               'open_price', 'close_time', 'close_price', \n",
    "                               'exit_type', 'macd_value_at_buy', 'signal_value_at_buy','histogram','volume', \"sell_sma_greater_ema\"\n",
    "                               ])"
   ]
  },
  {
   "cell_type": "code",
   "execution_count": 14,
   "metadata": {},
   "outputs": [],
   "source": [
    "def is_bullish_crossover_under_zero(row,index):\n",
    "    prev_row = final_rates.iloc[index - 1]\n",
    "    hist_trend_bullish = row['histogram'] > prev_row['histogram']\n",
    "    macd_crossover = row['macd'] > row['signal']\n",
    "    bullish_trend = row['signal'] < 0 and row['macd'] < 0 and macd_crossover and hist_trend_bullish\n",
    "    return bullish_trend\n"
   ]
  },
  {
   "cell_type": "code",
   "execution_count": 18,
   "metadata": {},
   "outputs": [],
   "source": [
    "def is_historgram_in_bearish_trend(index):\n",
    "    if index <= 0:\n",
    "        # If the index is invalid, return False\n",
    "        return False\n",
    "    \n",
    "    # Retrieve the current and previous rows from the DataFrame\n",
    "    row = final_rates.iloc[index]\n",
    "    prev_row = final_rates.iloc[index - 1]\n",
    "    \n",
    "    # Check if the current histogram value is less than the previous one\n",
    "    # This indicates a potential bearish trend\n",
    "    hist_trend_bearish = row['histogram'] < prev_row['histogram']\n",
    "    \n",
    "    # Check if MACD is below the signal line\n",
    "    macd_crossover = row['macd'] < row['signal']\n",
    "    \n",
    "    # Check if both MACD and signal line are above 0\n",
    "    # This ensures that we are not in the oversold region\n",
    "    bearish_trend = row['signal'] > 0 and row['macd'] > 0 and macd_crossover and hist_trend_bearish\n",
    "    \n",
    "    return bearish_trend\n"
   ]
  },
  {
   "cell_type": "code",
   "execution_count": 19,
   "metadata": {},
   "outputs": [],
   "source": [
    "rows,columns = final_rates.shape\n",
    "bought = False\n",
    "buy_price = 0\n",
    "tp = .0060\n",
    "sl = .0009\n",
    "last_bought_index = 0\n",
    "trading_units = 100000\n",
    "last_bought_timestamp = None\n",
    "exit_from_hrs = 3"
   ]
  },
  {
   "cell_type": "code",
   "execution_count": 20,
   "metadata": {},
   "outputs": [
    {
     "ename": "KeyError",
     "evalue": "'histogram'",
     "output_type": "error",
     "traceback": [
      "\u001b[1;31m---------------------------------------------------------------------------\u001b[0m",
      "\u001b[1;31mKeyError\u001b[0m                                  Traceback (most recent call last)",
      "File \u001b[1;32mc:\\Users\\gaurav gupta\\AppData\\Local\\Programs\\Python\\Python310\\lib\\site-packages\\pandas\\core\\indexes\\base.py:3802\u001b[0m, in \u001b[0;36mIndex.get_loc\u001b[1;34m(self, key)\u001b[0m\n\u001b[0;32m   3801\u001b[0m \u001b[38;5;28;01mtry\u001b[39;00m:\n\u001b[1;32m-> 3802\u001b[0m     \u001b[38;5;28;01mreturn\u001b[39;00m \u001b[38;5;28;43mself\u001b[39;49m\u001b[38;5;241;43m.\u001b[39;49m\u001b[43m_engine\u001b[49m\u001b[38;5;241;43m.\u001b[39;49m\u001b[43mget_loc\u001b[49m\u001b[43m(\u001b[49m\u001b[43mcasted_key\u001b[49m\u001b[43m)\u001b[49m\n\u001b[0;32m   3803\u001b[0m \u001b[38;5;28;01mexcept\u001b[39;00m \u001b[38;5;167;01mKeyError\u001b[39;00m \u001b[38;5;28;01mas\u001b[39;00m err:\n",
      "File \u001b[1;32mindex.pyx:153\u001b[0m, in \u001b[0;36mpandas._libs.index.IndexEngine.get_loc\u001b[1;34m()\u001b[0m\n",
      "File \u001b[1;32mindex.pyx:182\u001b[0m, in \u001b[0;36mpandas._libs.index.IndexEngine.get_loc\u001b[1;34m()\u001b[0m\n",
      "File \u001b[1;32mpandas\\\\_libs\\\\hashtable_class_helper.pxi:7081\u001b[0m, in \u001b[0;36mpandas._libs.hashtable.PyObjectHashTable.get_item\u001b[1;34m()\u001b[0m\n",
      "File \u001b[1;32mpandas\\\\_libs\\\\hashtable_class_helper.pxi:7089\u001b[0m, in \u001b[0;36mpandas._libs.hashtable.PyObjectHashTable.get_item\u001b[1;34m()\u001b[0m\n",
      "\u001b[1;31mKeyError\u001b[0m: 'histogram'",
      "\nThe above exception was the direct cause of the following exception:\n",
      "\u001b[1;31mKeyError\u001b[0m                                  Traceback (most recent call last)",
      "Input \u001b[1;32mIn [20]\u001b[0m, in \u001b[0;36m<cell line: 1>\u001b[1;34m()\u001b[0m\n\u001b[0;32m      1\u001b[0m \u001b[38;5;28;01mfor\u001b[39;00m index, row \u001b[38;5;129;01min\u001b[39;00m final_rates\u001b[38;5;241m.\u001b[39miterrows():\n\u001b[0;32m      4\u001b[0m     \u001b[38;5;28;01mif\u001b[39;00m index \u001b[38;5;241m>\u001b[39m \u001b[38;5;241m30\u001b[39m \u001b[38;5;129;01mand\u001b[39;00m ((index \u001b[38;5;241m+\u001b[39m \u001b[38;5;241m1\u001b[39m) \u001b[38;5;241m<\u001b[39m rows): \n\u001b[1;32m----> 6\u001b[0m         bullish_trend \u001b[38;5;241m=\u001b[39m \u001b[43mis_bullish_crossover_under_zero\u001b[49m\u001b[43m(\u001b[49m\u001b[43mrow\u001b[49m\u001b[43m,\u001b[49m\u001b[43m \u001b[49m\u001b[43mindex\u001b[49m\u001b[43m)\u001b[49m\n\u001b[0;32m      7\u001b[0m         is_historgram_in_bearish \u001b[38;5;241m=\u001b[39m is_historgram_in_bearish_trend(index)  \u001b[38;5;66;03m# Fixed function call\u001b[39;00m\n\u001b[0;32m      9\u001b[0m         current_index_last_bought_delta \u001b[38;5;241m=\u001b[39m index \u001b[38;5;241m-\u001b[39m last_bought_index\n",
      "Input \u001b[1;32mIn [14]\u001b[0m, in \u001b[0;36mis_bullish_crossover_under_zero\u001b[1;34m(row, index)\u001b[0m\n\u001b[0;32m      1\u001b[0m \u001b[38;5;28;01mdef\u001b[39;00m \u001b[38;5;21mis_bullish_crossover_under_zero\u001b[39m(row,index):\n\u001b[0;32m      2\u001b[0m     prev_row \u001b[38;5;241m=\u001b[39m final_rates\u001b[38;5;241m.\u001b[39miloc[index \u001b[38;5;241m-\u001b[39m \u001b[38;5;241m1\u001b[39m]\n\u001b[1;32m----> 3\u001b[0m     hist_trend_bullish \u001b[38;5;241m=\u001b[39m \u001b[43mrow\u001b[49m\u001b[43m[\u001b[49m\u001b[38;5;124;43m'\u001b[39;49m\u001b[38;5;124;43mhistogram\u001b[39;49m\u001b[38;5;124;43m'\u001b[39;49m\u001b[43m]\u001b[49m \u001b[38;5;241m>\u001b[39m prev_row[\u001b[38;5;124m'\u001b[39m\u001b[38;5;124mhistogram\u001b[39m\u001b[38;5;124m'\u001b[39m]\n\u001b[0;32m      4\u001b[0m     macd_crossover \u001b[38;5;241m=\u001b[39m row[\u001b[38;5;124m'\u001b[39m\u001b[38;5;124mmacd\u001b[39m\u001b[38;5;124m'\u001b[39m] \u001b[38;5;241m>\u001b[39m row[\u001b[38;5;124m'\u001b[39m\u001b[38;5;124msignal\u001b[39m\u001b[38;5;124m'\u001b[39m]\n\u001b[0;32m      5\u001b[0m     bullish_trend \u001b[38;5;241m=\u001b[39m row[\u001b[38;5;124m'\u001b[39m\u001b[38;5;124msignal\u001b[39m\u001b[38;5;124m'\u001b[39m] \u001b[38;5;241m<\u001b[39m \u001b[38;5;241m0\u001b[39m \u001b[38;5;129;01mand\u001b[39;00m row[\u001b[38;5;124m'\u001b[39m\u001b[38;5;124mmacd\u001b[39m\u001b[38;5;124m'\u001b[39m] \u001b[38;5;241m<\u001b[39m \u001b[38;5;241m0\u001b[39m \u001b[38;5;129;01mand\u001b[39;00m macd_crossover \u001b[38;5;129;01mand\u001b[39;00m hist_trend_bullish\n",
      "File \u001b[1;32mc:\\Users\\gaurav gupta\\AppData\\Local\\Programs\\Python\\Python310\\lib\\site-packages\\pandas\\core\\series.py:1111\u001b[0m, in \u001b[0;36mSeries.__getitem__\u001b[1;34m(self, key)\u001b[0m\n\u001b[0;32m   1108\u001b[0m     \u001b[38;5;28;01mreturn\u001b[39;00m \u001b[38;5;28mself\u001b[39m\u001b[38;5;241m.\u001b[39m_values[key]\n\u001b[0;32m   1110\u001b[0m \u001b[38;5;28;01melif\u001b[39;00m key_is_scalar:\n\u001b[1;32m-> 1111\u001b[0m     \u001b[38;5;28;01mreturn\u001b[39;00m \u001b[38;5;28;43mself\u001b[39;49m\u001b[38;5;241;43m.\u001b[39;49m\u001b[43m_get_value\u001b[49m\u001b[43m(\u001b[49m\u001b[43mkey\u001b[49m\u001b[43m)\u001b[49m\n\u001b[0;32m   1113\u001b[0m \u001b[38;5;66;03m# Convert generator to list before going through hashable part\u001b[39;00m\n\u001b[0;32m   1114\u001b[0m \u001b[38;5;66;03m# (We will iterate through the generator there to check for slices)\u001b[39;00m\n\u001b[0;32m   1115\u001b[0m \u001b[38;5;28;01mif\u001b[39;00m is_iterator(key):\n",
      "File \u001b[1;32mc:\\Users\\gaurav gupta\\AppData\\Local\\Programs\\Python\\Python310\\lib\\site-packages\\pandas\\core\\series.py:1227\u001b[0m, in \u001b[0;36mSeries._get_value\u001b[1;34m(self, label, takeable)\u001b[0m\n\u001b[0;32m   1224\u001b[0m     \u001b[38;5;28;01mreturn\u001b[39;00m \u001b[38;5;28mself\u001b[39m\u001b[38;5;241m.\u001b[39m_values[label]\n\u001b[0;32m   1226\u001b[0m \u001b[38;5;66;03m# Similar to Index.get_value, but we do not fall back to positional\u001b[39;00m\n\u001b[1;32m-> 1227\u001b[0m loc \u001b[38;5;241m=\u001b[39m \u001b[38;5;28;43mself\u001b[39;49m\u001b[38;5;241;43m.\u001b[39;49m\u001b[43mindex\u001b[49m\u001b[38;5;241;43m.\u001b[39;49m\u001b[43mget_loc\u001b[49m\u001b[43m(\u001b[49m\u001b[43mlabel\u001b[49m\u001b[43m)\u001b[49m\n\u001b[0;32m   1229\u001b[0m \u001b[38;5;28;01mif\u001b[39;00m is_integer(loc):\n\u001b[0;32m   1230\u001b[0m     \u001b[38;5;28;01mreturn\u001b[39;00m \u001b[38;5;28mself\u001b[39m\u001b[38;5;241m.\u001b[39m_values[loc]\n",
      "File \u001b[1;32mc:\\Users\\gaurav gupta\\AppData\\Local\\Programs\\Python\\Python310\\lib\\site-packages\\pandas\\core\\indexes\\base.py:3809\u001b[0m, in \u001b[0;36mIndex.get_loc\u001b[1;34m(self, key)\u001b[0m\n\u001b[0;32m   3804\u001b[0m     \u001b[38;5;28;01mif\u001b[39;00m \u001b[38;5;28misinstance\u001b[39m(casted_key, \u001b[38;5;28mslice\u001b[39m) \u001b[38;5;129;01mor\u001b[39;00m (\n\u001b[0;32m   3805\u001b[0m         \u001b[38;5;28misinstance\u001b[39m(casted_key, abc\u001b[38;5;241m.\u001b[39mIterable)\n\u001b[0;32m   3806\u001b[0m         \u001b[38;5;129;01mand\u001b[39;00m \u001b[38;5;28many\u001b[39m(\u001b[38;5;28misinstance\u001b[39m(x, \u001b[38;5;28mslice\u001b[39m) \u001b[38;5;28;01mfor\u001b[39;00m x \u001b[38;5;129;01min\u001b[39;00m casted_key)\n\u001b[0;32m   3807\u001b[0m     ):\n\u001b[0;32m   3808\u001b[0m         \u001b[38;5;28;01mraise\u001b[39;00m InvalidIndexError(key)\n\u001b[1;32m-> 3809\u001b[0m     \u001b[38;5;28;01mraise\u001b[39;00m \u001b[38;5;167;01mKeyError\u001b[39;00m(key) \u001b[38;5;28;01mfrom\u001b[39;00m \u001b[38;5;21;01merr\u001b[39;00m\n\u001b[0;32m   3810\u001b[0m \u001b[38;5;28;01mexcept\u001b[39;00m \u001b[38;5;167;01mTypeError\u001b[39;00m:\n\u001b[0;32m   3811\u001b[0m     \u001b[38;5;66;03m# If we have a listlike key, _check_indexing_error will raise\u001b[39;00m\n\u001b[0;32m   3812\u001b[0m     \u001b[38;5;66;03m#  InvalidIndexError. Otherwise we fall through and re-raise\u001b[39;00m\n\u001b[0;32m   3813\u001b[0m     \u001b[38;5;66;03m#  the TypeError.\u001b[39;00m\n\u001b[0;32m   3814\u001b[0m     \u001b[38;5;28mself\u001b[39m\u001b[38;5;241m.\u001b[39m_check_indexing_error(key)\n",
      "\u001b[1;31mKeyError\u001b[0m: 'histogram'"
     ]
    }
   ],
   "source": [
    "for index, row in final_rates.iterrows():\n",
    "    \n",
    "       \n",
    "    if index > 30 and ((index + 1) < rows): \n",
    "\n",
    "        bullish_trend = is_bullish_crossover_under_zero(row, index)\n",
    "        is_historgram_in_bearish = is_historgram_in_bearish_trend(index)  # Fixed function call\n",
    "\n",
    "        current_index_last_bought_delta = index - last_bought_index\n",
    "        if not bought:\n",
    "            if bullish_trend:\n",
    "                print(\"Bullish trend\", row['converted_time'])\n",
    "                # print(\"Bought\",index)\n",
    "                regression_data = final_rates.iloc[index - 20:index]\n",
    "                buy_price = final_rates.iloc[index + 1]['open']\n",
    "                last_bought_index = index\n",
    "                stop_loss_price = buy_price - sl\n",
    "                take_profit_price = buy_price + tp\n",
    "                sma_greater_ema = row['sma'] > row['ema']\n",
    "                trades.loc[len(trades)] = ['open', 'buy', final_rates.iloc[index + 1]['converted_time'], buy_price, None, None, None, row['macd'], row['signal'], row['histogram'], row['tick_volume'], None]\n",
    "                last_bought_timestamp = final_rates.iloc[index + 1]['time']\n",
    "                exit_time_stamp = last_bought_timestamp + (exit_from_hrs * 60 * 60)\n",
    "                bought = True\n",
    "\n",
    "        elif bought and (current_index_last_bought_delta > 3):\n",
    "            if row['close'] < stop_loss_price:\n",
    "                exit_type = \"stop_loss\"\n",
    "                bought = False\n",
    "                sma_greater_ema = row['sma'] > row['ema']\n",
    "                trades.loc[trades['state'] == 'open', ['state', 'close_time', 'close_price', 'exit_type', \"sell_sma_greater_ema\"]] = ['closed', row['converted_time'], stop_loss_price, exit_type, sma_greater_ema]\n",
    "\n",
    "            elif is_historgram_in_bearish:\n",
    "                bought = False\n",
    "                close_price = final_rates.iloc[index + 1]['open']\n",
    "                if buy_price < close_price:\n",
    "                    exit_type = \"profit_on_bearish_trend\"\n",
    "                else:\n",
    "                    exit_type = \"loss_on_bearish_trend\"\n",
    "                sma_greater_ema = row['sma'] > row['ema']\n",
    "                trades.loc[trades['state'] == 'open', ['state', 'close_time', 'close_price', 'exit_type', 'sell_sma_greater_ema']] = ['closed', final_rates.iloc[index + 1]['converted_time'], final_rates.iloc[index + 1]['open'], exit_type, sma_greater_ema]\n",
    "\n",
    "            elif row['high'] > take_profit_price:\n",
    "                bought = False\n",
    "                exit_type = \"take_profit\"\n",
    "                sma_greater_ema = row['sma'] > row['ema']\n",
    "                trades.loc[trades['state'] == 'open', ['state', 'close_time', 'close_price', 'exit_type', 'sell_sma_greater_ema']] = ['closed', final_rates.iloc[index]['converted_time'], take_profit_price, exit_type, sma_greater_ema]\n"
   ]
  },
  {
   "cell_type": "code",
   "execution_count": 21,
   "metadata": {},
   "outputs": [
    {
     "name": "stdout",
     "output_type": "stream",
     "text": [
      "Index(['Unnamed: 0', 'converted_time', 'time', 'open', 'high', 'low', 'close',\n",
      "       'spread', 'tick_volume', 'real_volume', 'ema', 'sma'],\n",
      "      dtype='object')\n"
     ]
    }
   ],
   "source": [
    "print(final_rates.columns)\n"
   ]
  },
  {
   "cell_type": "code",
   "execution_count": null,
   "metadata": {},
   "outputs": [],
   "source": []
  }
 ],
 "metadata": {
  "kernelspec": {
   "display_name": "Python 3",
   "language": "python",
   "name": "python3"
  },
  "language_info": {
   "codemirror_mode": {
    "name": "ipython",
    "version": 3
   },
   "file_extension": ".py",
   "mimetype": "text/x-python",
   "name": "python",
   "nbconvert_exporter": "python",
   "pygments_lexer": "ipython3",
   "version": "3.10.6"
  }
 },
 "nbformat": 4,
 "nbformat_minor": 2
}
